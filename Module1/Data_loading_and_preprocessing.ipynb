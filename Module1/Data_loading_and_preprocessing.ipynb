{
 "cells": [
  {
   "cell_type": "markdown",
   "id": "combined-composer",
   "metadata": {},
   "source": [
    "# Imports"
   ]
  },
  {
   "cell_type": "code",
   "execution_count": 48,
   "id": "contemporary-permit",
   "metadata": {},
   "outputs": [],
   "source": [
    "import seaborn as sns\n",
    "import pandas as pd\n",
    "import numpy as np\n",
    "import warnings\n",
    "warnings.filterwarnings(\"ignore\")\n",
    "from sklearn import preprocessing"
   ]
  },
  {
   "cell_type": "code",
   "execution_count": 49,
   "id": "infectious-valuation",
   "metadata": {},
   "outputs": [],
   "source": [
    "# loading data\n",
    "data_frame = pd.read_csv(r'./DATA/H2HBABBA3195.csv')"
   ]
  },
  {
   "cell_type": "code",
   "execution_count": 50,
   "id": "tested-representative",
   "metadata": {},
   "outputs": [
    {
     "data": {
      "text/html": [
       "<div>\n",
       "<style scoped>\n",
       "    .dataframe tbody tr th:only-of-type {\n",
       "        vertical-align: middle;\n",
       "    }\n",
       "\n",
       "    .dataframe tbody tr th {\n",
       "        vertical-align: top;\n",
       "    }\n",
       "\n",
       "    .dataframe thead th {\n",
       "        text-align: right;\n",
       "    }\n",
       "</style>\n",
       "<table border=\"1\" class=\"dataframe\">\n",
       "  <thead>\n",
       "    <tr style=\"text-align: right;\">\n",
       "      <th></th>\n",
       "      <th>business_code</th>\n",
       "      <th>cust_number</th>\n",
       "      <th>name_customer</th>\n",
       "      <th>clear_date</th>\n",
       "      <th>buisness_year</th>\n",
       "      <th>doc_id</th>\n",
       "      <th>posting_date</th>\n",
       "      <th>document_create_date</th>\n",
       "      <th>document_create_date.1</th>\n",
       "      <th>due_in_date</th>\n",
       "      <th>invoice_currency</th>\n",
       "      <th>document type</th>\n",
       "      <th>posting_id</th>\n",
       "      <th>area_business</th>\n",
       "      <th>total_open_amount</th>\n",
       "      <th>baseline_create_date</th>\n",
       "      <th>cust_payment_terms</th>\n",
       "      <th>invoice_id</th>\n",
       "      <th>isOpen</th>\n",
       "    </tr>\n",
       "  </thead>\n",
       "  <tbody>\n",
       "    <tr>\n",
       "      <th>0</th>\n",
       "      <td>U001</td>\n",
       "      <td>0200779906</td>\n",
       "      <td>BOZZU corporation</td>\n",
       "      <td>2019-03-28 00:00:00</td>\n",
       "      <td>2019.0</td>\n",
       "      <td>1.928941e+09</td>\n",
       "      <td>2019-03-12</td>\n",
       "      <td>20190310</td>\n",
       "      <td>20190312</td>\n",
       "      <td>20190327.0</td>\n",
       "      <td>USD</td>\n",
       "      <td>RV</td>\n",
       "      <td>1.0</td>\n",
       "      <td>NaN</td>\n",
       "      <td>44468.83</td>\n",
       "      <td>20190312.0</td>\n",
       "      <td>NAA8</td>\n",
       "      <td>1.928941e+09</td>\n",
       "      <td>0</td>\n",
       "    </tr>\n",
       "    <tr>\n",
       "      <th>1</th>\n",
       "      <td>U001</td>\n",
       "      <td>0200769623</td>\n",
       "      <td>WAL-MAR associates</td>\n",
       "      <td>2019-04-03 00:00:00</td>\n",
       "      <td>2019.0</td>\n",
       "      <td>1.929015e+09</td>\n",
       "      <td>2019-03-24</td>\n",
       "      <td>20190323</td>\n",
       "      <td>20190324</td>\n",
       "      <td>20190408.0</td>\n",
       "      <td>USD</td>\n",
       "      <td>RV</td>\n",
       "      <td>1.0</td>\n",
       "      <td>NaN</td>\n",
       "      <td>4013.75</td>\n",
       "      <td>20190324.0</td>\n",
       "      <td>NAH4</td>\n",
       "      <td>1.929015e+09</td>\n",
       "      <td>0</td>\n",
       "    </tr>\n",
       "    <tr>\n",
       "      <th>2</th>\n",
       "      <td>U001</td>\n",
       "      <td>0200772670</td>\n",
       "      <td>ASSOCIAT corp</td>\n",
       "      <td>2019-05-22 00:00:00</td>\n",
       "      <td>2019.0</td>\n",
       "      <td>1.929268e+09</td>\n",
       "      <td>2019-05-06</td>\n",
       "      <td>20190506</td>\n",
       "      <td>20190506</td>\n",
       "      <td>20190521.0</td>\n",
       "      <td>USD</td>\n",
       "      <td>RV</td>\n",
       "      <td>1.0</td>\n",
       "      <td>NaN</td>\n",
       "      <td>77909.09</td>\n",
       "      <td>20190506.0</td>\n",
       "      <td>NAU5</td>\n",
       "      <td>1.929268e+09</td>\n",
       "      <td>0</td>\n",
       "    </tr>\n",
       "    <tr>\n",
       "      <th>3</th>\n",
       "      <td>U001</td>\n",
       "      <td>0100044041</td>\n",
       "      <td>DEF. F co</td>\n",
       "      <td>2020-03-02 00:00:00</td>\n",
       "      <td>2020.0</td>\n",
       "      <td>1.930548e+09</td>\n",
       "      <td>2020-02-20</td>\n",
       "      <td>20200220</td>\n",
       "      <td>20200220</td>\n",
       "      <td>20200310.0</td>\n",
       "      <td>USD</td>\n",
       "      <td>RV</td>\n",
       "      <td>1.0</td>\n",
       "      <td>NaN</td>\n",
       "      <td>2459.37</td>\n",
       "      <td>20200216.0</td>\n",
       "      <td>NAM4</td>\n",
       "      <td>1.930548e+09</td>\n",
       "      <td>0</td>\n",
       "    </tr>\n",
       "    <tr>\n",
       "      <th>4</th>\n",
       "      <td>U001</td>\n",
       "      <td>0200705742</td>\n",
       "      <td>DOT corporation</td>\n",
       "      <td>2019-05-15 00:00:00</td>\n",
       "      <td>2019.0</td>\n",
       "      <td>1.929234e+09</td>\n",
       "      <td>2019-04-30</td>\n",
       "      <td>20190430</td>\n",
       "      <td>20190430</td>\n",
       "      <td>20190603.0</td>\n",
       "      <td>USD</td>\n",
       "      <td>RV</td>\n",
       "      <td>1.0</td>\n",
       "      <td>NaN</td>\n",
       "      <td>10073.68</td>\n",
       "      <td>20190430.0</td>\n",
       "      <td>NAAW</td>\n",
       "      <td>1.929234e+09</td>\n",
       "      <td>0</td>\n",
       "    </tr>\n",
       "  </tbody>\n",
       "</table>\n",
       "</div>"
      ],
      "text/plain": [
       "  business_code cust_number       name_customer           clear_date  \\\n",
       "0          U001  0200779906   BOZZU corporation  2019-03-28 00:00:00   \n",
       "1          U001  0200769623  WAL-MAR associates  2019-04-03 00:00:00   \n",
       "2          U001  0200772670       ASSOCIAT corp  2019-05-22 00:00:00   \n",
       "3          U001  0100044041           DEF. F co  2020-03-02 00:00:00   \n",
       "4          U001  0200705742     DOT corporation  2019-05-15 00:00:00   \n",
       "\n",
       "   buisness_year        doc_id posting_date  document_create_date  \\\n",
       "0         2019.0  1.928941e+09   2019-03-12              20190310   \n",
       "1         2019.0  1.929015e+09   2019-03-24              20190323   \n",
       "2         2019.0  1.929268e+09   2019-05-06              20190506   \n",
       "3         2020.0  1.930548e+09   2020-02-20              20200220   \n",
       "4         2019.0  1.929234e+09   2019-04-30              20190430   \n",
       "\n",
       "   document_create_date.1  due_in_date invoice_currency document type  \\\n",
       "0                20190312   20190327.0              USD            RV   \n",
       "1                20190324   20190408.0              USD            RV   \n",
       "2                20190506   20190521.0              USD            RV   \n",
       "3                20200220   20200310.0              USD            RV   \n",
       "4                20190430   20190603.0              USD            RV   \n",
       "\n",
       "   posting_id  area_business  total_open_amount  baseline_create_date  \\\n",
       "0         1.0            NaN           44468.83            20190312.0   \n",
       "1         1.0            NaN            4013.75            20190324.0   \n",
       "2         1.0            NaN           77909.09            20190506.0   \n",
       "3         1.0            NaN            2459.37            20200216.0   \n",
       "4         1.0            NaN           10073.68            20190430.0   \n",
       "\n",
       "  cust_payment_terms    invoice_id  isOpen  \n",
       "0               NAA8  1.928941e+09       0  \n",
       "1               NAH4  1.929015e+09       0  \n",
       "2               NAU5  1.929268e+09       0  \n",
       "3               NAM4  1.930548e+09       0  \n",
       "4               NAAW  1.929234e+09       0  "
      ]
     },
     "execution_count": 50,
     "metadata": {},
     "output_type": "execute_result"
    }
   ],
   "source": [
    "data_frame.head()"
   ]
  },
  {
   "cell_type": "code",
   "execution_count": 51,
   "id": "behind-content",
   "metadata": {},
   "outputs": [
    {
     "data": {
      "text/plain": [
       "business_code                 6\n",
       "cust_number                1394\n",
       "name_customer              4195\n",
       "clear_date                  402\n",
       "buisness_year                 2\n",
       "doc_id                    48806\n",
       "posting_date                507\n",
       "document_create_date        509\n",
       "document_create_date.1      507\n",
       "due_in_date                 545\n",
       "invoice_currency              2\n",
       "document type                 2\n",
       "posting_id                    1\n",
       "area_business                 0\n",
       "total_open_amount         44262\n",
       "baseline_create_date        509\n",
       "cust_payment_terms           75\n",
       "invoice_id                48802\n",
       "isOpen                        2\n",
       "dtype: int64"
      ]
     },
     "execution_count": 51,
     "metadata": {},
     "output_type": "execute_result"
    }
   ],
   "source": [
    "data_frame.nunique(axis=0)"
   ]
  },
  {
   "cell_type": "code",
   "execution_count": 52,
   "id": "native-poker",
   "metadata": {},
   "outputs": [
    {
     "data": {
      "text/plain": [
       "NAA8    20052\n",
       "NAH4    13697\n",
       "CA10     3726\n",
       "NAC6     1774\n",
       "NAM4     1369\n",
       "        ...  \n",
       "NATX        1\n",
       "NATL        1\n",
       "MC15        1\n",
       "NAV2        1\n",
       "NAUI        1\n",
       "Name: cust_payment_terms, Length: 75, dtype: int64"
      ]
     },
     "execution_count": 52,
     "metadata": {},
     "output_type": "execute_result"
    }
   ],
   "source": [
    "data_frame['cust_payment_terms'].value_counts()"
   ]
  },
  {
   "cell_type": "code",
   "execution_count": 53,
   "id": "stable-general",
   "metadata": {},
   "outputs": [
    {
     "data": {
      "text/plain": [
       "(10000, 19)"
      ]
     },
     "execution_count": 53,
     "metadata": {},
     "output_type": "execute_result"
    }
   ],
   "source": [
    "df = data_frame[data_frame.clear_date.isnull()]\n",
    "df.shape"
   ]
  },
  {
   "cell_type": "code",
   "execution_count": 54,
   "id": "specific-shadow",
   "metadata": {},
   "outputs": [
    {
     "data": {
      "text/html": [
       "<div>\n",
       "<style scoped>\n",
       "    .dataframe tbody tr th:only-of-type {\n",
       "        vertical-align: middle;\n",
       "    }\n",
       "\n",
       "    .dataframe tbody tr th {\n",
       "        vertical-align: top;\n",
       "    }\n",
       "\n",
       "    .dataframe thead th {\n",
       "        text-align: right;\n",
       "    }\n",
       "</style>\n",
       "<table border=\"1\" class=\"dataframe\">\n",
       "  <thead>\n",
       "    <tr style=\"text-align: right;\">\n",
       "      <th></th>\n",
       "      <th>buisness_year</th>\n",
       "      <th>doc_id</th>\n",
       "      <th>document_create_date</th>\n",
       "      <th>document_create_date.1</th>\n",
       "      <th>due_in_date</th>\n",
       "      <th>posting_id</th>\n",
       "      <th>area_business</th>\n",
       "      <th>total_open_amount</th>\n",
       "      <th>baseline_create_date</th>\n",
       "      <th>invoice_id</th>\n",
       "      <th>isOpen</th>\n",
       "    </tr>\n",
       "  </thead>\n",
       "  <tbody>\n",
       "    <tr>\n",
       "      <th>buisness_year</th>\n",
       "      <td>1.000000</td>\n",
       "      <td>-0.007851</td>\n",
       "      <td>0.977120</td>\n",
       "      <td>0.983620</td>\n",
       "      <td>0.988944</td>\n",
       "      <td>NaN</td>\n",
       "      <td>NaN</td>\n",
       "      <td>0.001232</td>\n",
       "      <td>0.983986</td>\n",
       "      <td>-0.006627</td>\n",
       "      <td>0.750550</td>\n",
       "    </tr>\n",
       "    <tr>\n",
       "      <th>doc_id</th>\n",
       "      <td>-0.007851</td>\n",
       "      <td>1.000000</td>\n",
       "      <td>-0.004729</td>\n",
       "      <td>-0.006722</td>\n",
       "      <td>-0.010245</td>\n",
       "      <td>NaN</td>\n",
       "      <td>NaN</td>\n",
       "      <td>0.191287</td>\n",
       "      <td>-0.004197</td>\n",
       "      <td>1.000000</td>\n",
       "      <td>-0.006992</td>\n",
       "    </tr>\n",
       "    <tr>\n",
       "      <th>document_create_date</th>\n",
       "      <td>0.977120</td>\n",
       "      <td>-0.004729</td>\n",
       "      <td>1.000000</td>\n",
       "      <td>0.993404</td>\n",
       "      <td>0.973043</td>\n",
       "      <td>NaN</td>\n",
       "      <td>NaN</td>\n",
       "      <td>0.004664</td>\n",
       "      <td>0.992660</td>\n",
       "      <td>-0.003320</td>\n",
       "      <td>0.760251</td>\n",
       "    </tr>\n",
       "    <tr>\n",
       "      <th>document_create_date.1</th>\n",
       "      <td>0.983620</td>\n",
       "      <td>-0.006722</td>\n",
       "      <td>0.993404</td>\n",
       "      <td>1.000000</td>\n",
       "      <td>0.978904</td>\n",
       "      <td>NaN</td>\n",
       "      <td>NaN</td>\n",
       "      <td>0.003409</td>\n",
       "      <td>0.999250</td>\n",
       "      <td>-0.005299</td>\n",
       "      <td>0.760350</td>\n",
       "    </tr>\n",
       "    <tr>\n",
       "      <th>due_in_date</th>\n",
       "      <td>0.988944</td>\n",
       "      <td>-0.010245</td>\n",
       "      <td>0.973043</td>\n",
       "      <td>0.978904</td>\n",
       "      <td>1.000000</td>\n",
       "      <td>NaN</td>\n",
       "      <td>NaN</td>\n",
       "      <td>0.000899</td>\n",
       "      <td>0.979473</td>\n",
       "      <td>-0.008889</td>\n",
       "      <td>0.750627</td>\n",
       "    </tr>\n",
       "    <tr>\n",
       "      <th>posting_id</th>\n",
       "      <td>NaN</td>\n",
       "      <td>NaN</td>\n",
       "      <td>NaN</td>\n",
       "      <td>NaN</td>\n",
       "      <td>NaN</td>\n",
       "      <td>NaN</td>\n",
       "      <td>NaN</td>\n",
       "      <td>NaN</td>\n",
       "      <td>NaN</td>\n",
       "      <td>NaN</td>\n",
       "      <td>NaN</td>\n",
       "    </tr>\n",
       "    <tr>\n",
       "      <th>area_business</th>\n",
       "      <td>NaN</td>\n",
       "      <td>NaN</td>\n",
       "      <td>NaN</td>\n",
       "      <td>NaN</td>\n",
       "      <td>NaN</td>\n",
       "      <td>NaN</td>\n",
       "      <td>NaN</td>\n",
       "      <td>NaN</td>\n",
       "      <td>NaN</td>\n",
       "      <td>NaN</td>\n",
       "      <td>NaN</td>\n",
       "    </tr>\n",
       "    <tr>\n",
       "      <th>total_open_amount</th>\n",
       "      <td>0.001232</td>\n",
       "      <td>0.191287</td>\n",
       "      <td>0.004664</td>\n",
       "      <td>0.003409</td>\n",
       "      <td>0.000899</td>\n",
       "      <td>NaN</td>\n",
       "      <td>NaN</td>\n",
       "      <td>1.000000</td>\n",
       "      <td>0.004271</td>\n",
       "      <td>0.197607</td>\n",
       "      <td>0.009850</td>\n",
       "    </tr>\n",
       "    <tr>\n",
       "      <th>baseline_create_date</th>\n",
       "      <td>0.983986</td>\n",
       "      <td>-0.004197</td>\n",
       "      <td>0.992660</td>\n",
       "      <td>0.999250</td>\n",
       "      <td>0.979473</td>\n",
       "      <td>NaN</td>\n",
       "      <td>NaN</td>\n",
       "      <td>0.004271</td>\n",
       "      <td>1.000000</td>\n",
       "      <td>-0.002698</td>\n",
       "      <td>0.760312</td>\n",
       "    </tr>\n",
       "    <tr>\n",
       "      <th>invoice_id</th>\n",
       "      <td>-0.006627</td>\n",
       "      <td>1.000000</td>\n",
       "      <td>-0.003320</td>\n",
       "      <td>-0.005299</td>\n",
       "      <td>-0.008889</td>\n",
       "      <td>NaN</td>\n",
       "      <td>NaN</td>\n",
       "      <td>0.197607</td>\n",
       "      <td>-0.002698</td>\n",
       "      <td>1.000000</td>\n",
       "      <td>-0.006106</td>\n",
       "    </tr>\n",
       "    <tr>\n",
       "      <th>isOpen</th>\n",
       "      <td>0.750550</td>\n",
       "      <td>-0.006992</td>\n",
       "      <td>0.760251</td>\n",
       "      <td>0.760350</td>\n",
       "      <td>0.750627</td>\n",
       "      <td>NaN</td>\n",
       "      <td>NaN</td>\n",
       "      <td>0.009850</td>\n",
       "      <td>0.760312</td>\n",
       "      <td>-0.006106</td>\n",
       "      <td>1.000000</td>\n",
       "    </tr>\n",
       "  </tbody>\n",
       "</table>\n",
       "</div>"
      ],
      "text/plain": [
       "                        buisness_year    doc_id  document_create_date  \\\n",
       "buisness_year                1.000000 -0.007851              0.977120   \n",
       "doc_id                      -0.007851  1.000000             -0.004729   \n",
       "document_create_date         0.977120 -0.004729              1.000000   \n",
       "document_create_date.1       0.983620 -0.006722              0.993404   \n",
       "due_in_date                  0.988944 -0.010245              0.973043   \n",
       "posting_id                        NaN       NaN                   NaN   \n",
       "area_business                     NaN       NaN                   NaN   \n",
       "total_open_amount            0.001232  0.191287              0.004664   \n",
       "baseline_create_date         0.983986 -0.004197              0.992660   \n",
       "invoice_id                  -0.006627  1.000000             -0.003320   \n",
       "isOpen                       0.750550 -0.006992              0.760251   \n",
       "\n",
       "                        document_create_date.1  due_in_date  posting_id  \\\n",
       "buisness_year                         0.983620     0.988944         NaN   \n",
       "doc_id                               -0.006722    -0.010245         NaN   \n",
       "document_create_date                  0.993404     0.973043         NaN   \n",
       "document_create_date.1                1.000000     0.978904         NaN   \n",
       "due_in_date                           0.978904     1.000000         NaN   \n",
       "posting_id                                 NaN          NaN         NaN   \n",
       "area_business                              NaN          NaN         NaN   \n",
       "total_open_amount                     0.003409     0.000899         NaN   \n",
       "baseline_create_date                  0.999250     0.979473         NaN   \n",
       "invoice_id                           -0.005299    -0.008889         NaN   \n",
       "isOpen                                0.760350     0.750627         NaN   \n",
       "\n",
       "                        area_business  total_open_amount  \\\n",
       "buisness_year                     NaN           0.001232   \n",
       "doc_id                            NaN           0.191287   \n",
       "document_create_date              NaN           0.004664   \n",
       "document_create_date.1            NaN           0.003409   \n",
       "due_in_date                       NaN           0.000899   \n",
       "posting_id                        NaN                NaN   \n",
       "area_business                     NaN                NaN   \n",
       "total_open_amount                 NaN           1.000000   \n",
       "baseline_create_date              NaN           0.004271   \n",
       "invoice_id                        NaN           0.197607   \n",
       "isOpen                            NaN           0.009850   \n",
       "\n",
       "                        baseline_create_date  invoice_id    isOpen  \n",
       "buisness_year                       0.983986   -0.006627  0.750550  \n",
       "doc_id                             -0.004197    1.000000 -0.006992  \n",
       "document_create_date                0.992660   -0.003320  0.760251  \n",
       "document_create_date.1              0.999250   -0.005299  0.760350  \n",
       "due_in_date                         0.979473   -0.008889  0.750627  \n",
       "posting_id                               NaN         NaN       NaN  \n",
       "area_business                            NaN         NaN       NaN  \n",
       "total_open_amount                   0.004271    0.197607  0.009850  \n",
       "baseline_create_date                1.000000   -0.002698  0.760312  \n",
       "invoice_id                         -0.002698    1.000000 -0.006106  \n",
       "isOpen                              0.760312   -0.006106  1.000000  "
      ]
     },
     "execution_count": 54,
     "metadata": {},
     "output_type": "execute_result"
    }
   ],
   "source": [
    "data_frame.corr()"
   ]
  },
  {
   "cell_type": "markdown",
   "id": "favorite-judgment",
   "metadata": {},
   "source": [
    "## Dropping blank and unwanted columns"
   ]
  },
  {
   "cell_type": "code",
   "execution_count": 55,
   "id": "widespread-assessment",
   "metadata": {},
   "outputs": [],
   "source": [
    "# name_customer can be identified by cust_number also contains anomalies\n",
    "# doc_id and invoice_id have very high correlation hence deleting invoice_id\n",
    "# document type is almost constant with just only 0.008% reading having a different value \n",
    "# posting_id is constant column\n",
    "# area_business is empty\n",
    "# dropping isOpen as open invoices have NULL values in clear_date\n",
    "\n",
    "data_frame.drop(['document_create_date.1','name_customer','invoice_id','document type','posting_id','area_business','isOpen'],axis=1,inplace=True)"
   ]
  },
  {
   "cell_type": "code",
   "execution_count": 56,
   "id": "promising-smoke",
   "metadata": {},
   "outputs": [],
   "source": [
    "# removing duplicate rows (based on invoice_id)\n",
    "data_frame.drop_duplicates(subset='doc_id',keep='first',inplace=True)"
   ]
  },
  {
   "cell_type": "code",
   "execution_count": 57,
   "id": "closing-greeting",
   "metadata": {},
   "outputs": [
    {
     "data": {
      "text/plain": [
       "business_code              0\n",
       "cust_number                0\n",
       "clear_date              9690\n",
       "buisness_year              0\n",
       "doc_id                     0\n",
       "posting_date               0\n",
       "document_create_date       0\n",
       "due_in_date                0\n",
       "invoice_currency           0\n",
       "total_open_amount          0\n",
       "baseline_create_date       0\n",
       "cust_payment_terms         0\n",
       "dtype: int64"
      ]
     },
     "execution_count": 57,
     "metadata": {},
     "output_type": "execute_result"
    }
   ],
   "source": [
    "# checking Nulls in columns for Null Imputation\n",
    "data_frame.isna().sum()"
   ]
  },
  {
   "cell_type": "code",
   "execution_count": 83,
   "id": "rocky-palmer",
   "metadata": {},
   "outputs": [],
   "source": [
    "# dividing data into final_test and train based on clear_date parameter being NULL\n",
    "final_test = data_frame[data_frame.clear_date.isnull()]\n",
    "main_train = data_frame[data_frame.clear_date.isnull()==False]"
   ]
  },
  {
   "cell_type": "code",
   "execution_count": 84,
   "id": "critical-export",
   "metadata": {},
   "outputs": [
    {
     "data": {
      "text/plain": [
       "1.929488e+09    1\n",
       "1.929562e+09    1\n",
       "1.929021e+09    1\n",
       "1.930516e+09    1\n",
       "1.930384e+09    1\n",
       "               ..\n",
       "1.929173e+09    1\n",
       "1.929223e+09    1\n",
       "1.930352e+09    1\n",
       "1.928565e+09    1\n",
       "1.930303e+09    1\n",
       "Name: doc_id, Length: 39116, dtype: int64"
      ]
     },
     "execution_count": 84,
     "metadata": {},
     "output_type": "execute_result"
    }
   ],
   "source": [
    "main_train['doc_id'].value_counts()"
   ]
  },
  {
   "cell_type": "code",
   "execution_count": 85,
   "id": "sufficient-suite",
   "metadata": {},
   "outputs": [],
   "source": [
    "# creating binary lable for business_code\n",
    "main_train['business_code'] = np.where(main_train['business_code'].isin(['U001','CA02']),main_train['business_code'],'OTHR')\n"
   ]
  },
  {
   "cell_type": "code",
   "execution_count": 86,
   "id": "legendary-soundtrack",
   "metadata": {},
   "outputs": [],
   "source": [
    "main_train['clear_date'] = pd.to_datetime(main_train['clear_date'])\n",
    "main_train['posting_date'] = pd.to_datetime(main_train['posting_date'])"
   ]
  },
  {
   "cell_type": "code",
   "execution_count": 87,
   "id": "legislative-retail",
   "metadata": {},
   "outputs": [],
   "source": [
    "def convert_to_date(df,attribute):\n",
    "    df[attribute] = pd.to_datetime(df[attribute], format='%Y%m%d')\n",
    "    "
   ]
  },
  {
   "cell_type": "code",
   "execution_count": 88,
   "id": "biological-difficulty",
   "metadata": {},
   "outputs": [],
   "source": [
    "convert_to_date(main_train,'document_create_date')\n",
    "convert_to_date(main_train,'baseline_create_date')\n",
    "convert_to_date(main_train,'due_in_date')\n"
   ]
  },
  {
   "cell_type": "code",
   "execution_count": 89,
   "id": "above-steal",
   "metadata": {},
   "outputs": [
    {
     "name": "stdout",
     "output_type": "stream",
     "text": [
      "business_code                   object\n",
      "cust_number                     object\n",
      "clear_date              datetime64[ns]\n",
      "buisness_year                  float64\n",
      "doc_id                         float64\n",
      "posting_date            datetime64[ns]\n",
      "document_create_date    datetime64[ns]\n",
      "due_in_date             datetime64[ns]\n",
      "invoice_currency                object\n",
      "total_open_amount              float64\n",
      "baseline_create_date    datetime64[ns]\n",
      "cust_payment_terms              object\n",
      "dtype: object\n"
     ]
    }
   ],
   "source": [
    "print(main_train.dtypes)"
   ]
  },
  {
   "cell_type": "code",
   "execution_count": 90,
   "id": "employed-power",
   "metadata": {},
   "outputs": [],
   "source": [
    "main_train['cust_payment_terms'] = np.where(main_train['cust_payment_terms'].isin(['NAA8','NAH4','CA10','NAC6','NAM4']),main_train['cust_payment_terms'],'OTHR')    "
   ]
  },
  {
   "cell_type": "code",
   "execution_count": 91,
   "id": "norwegian-radar",
   "metadata": {},
   "outputs": [],
   "source": [
    "main_train['total_open_amount'] = np.where(main_train['invoice_currency'].isin(['USD']),main_train['total_open_amount'],main_train['total_open_amount']*0.81)"
   ]
  },
  {
   "cell_type": "code",
   "execution_count": 92,
   "id": "hybrid-preliminary",
   "metadata": {},
   "outputs": [],
   "source": [
    "main_train['target'] = (main_train['clear_date'] - main_train['document_create_date']).dt.days"
   ]
  },
  {
   "cell_type": "code",
   "execution_count": 93,
   "id": "positive-software",
   "metadata": {},
   "outputs": [],
   "source": [
    "main_train['expected'] = (main_train['due_in_date'] - main_train['document_create_date']).dt.days"
   ]
  },
  {
   "cell_type": "code",
   "execution_count": 94,
   "id": "charitable-lithuania",
   "metadata": {
    "scrolled": true
   },
   "outputs": [
    {
     "data": {
      "text/html": [
       "<div>\n",
       "<style scoped>\n",
       "    .dataframe tbody tr th:only-of-type {\n",
       "        vertical-align: middle;\n",
       "    }\n",
       "\n",
       "    .dataframe tbody tr th {\n",
       "        vertical-align: top;\n",
       "    }\n",
       "\n",
       "    .dataframe thead th {\n",
       "        text-align: right;\n",
       "    }\n",
       "</style>\n",
       "<table border=\"1\" class=\"dataframe\">\n",
       "  <thead>\n",
       "    <tr style=\"text-align: right;\">\n",
       "      <th></th>\n",
       "      <th>business_code</th>\n",
       "      <th>cust_number</th>\n",
       "      <th>clear_date</th>\n",
       "      <th>buisness_year</th>\n",
       "      <th>doc_id</th>\n",
       "      <th>posting_date</th>\n",
       "      <th>document_create_date</th>\n",
       "      <th>due_in_date</th>\n",
       "      <th>invoice_currency</th>\n",
       "      <th>total_open_amount</th>\n",
       "      <th>baseline_create_date</th>\n",
       "      <th>cust_payment_terms</th>\n",
       "      <th>target</th>\n",
       "      <th>expected</th>\n",
       "    </tr>\n",
       "  </thead>\n",
       "  <tbody>\n",
       "    <tr>\n",
       "      <th>0</th>\n",
       "      <td>U001</td>\n",
       "      <td>0200779906</td>\n",
       "      <td>2019-03-28</td>\n",
       "      <td>2019.0</td>\n",
       "      <td>1.928941e+09</td>\n",
       "      <td>2019-03-12</td>\n",
       "      <td>2019-03-10</td>\n",
       "      <td>2019-03-27</td>\n",
       "      <td>USD</td>\n",
       "      <td>44468.83</td>\n",
       "      <td>2019-03-12</td>\n",
       "      <td>NAA8</td>\n",
       "      <td>18</td>\n",
       "      <td>17</td>\n",
       "    </tr>\n",
       "    <tr>\n",
       "      <th>1</th>\n",
       "      <td>U001</td>\n",
       "      <td>0200769623</td>\n",
       "      <td>2019-04-03</td>\n",
       "      <td>2019.0</td>\n",
       "      <td>1.929015e+09</td>\n",
       "      <td>2019-03-24</td>\n",
       "      <td>2019-03-23</td>\n",
       "      <td>2019-04-08</td>\n",
       "      <td>USD</td>\n",
       "      <td>4013.75</td>\n",
       "      <td>2019-03-24</td>\n",
       "      <td>NAH4</td>\n",
       "      <td>11</td>\n",
       "      <td>16</td>\n",
       "    </tr>\n",
       "    <tr>\n",
       "      <th>2</th>\n",
       "      <td>U001</td>\n",
       "      <td>0200772670</td>\n",
       "      <td>2019-05-22</td>\n",
       "      <td>2019.0</td>\n",
       "      <td>1.929268e+09</td>\n",
       "      <td>2019-05-06</td>\n",
       "      <td>2019-05-06</td>\n",
       "      <td>2019-05-21</td>\n",
       "      <td>USD</td>\n",
       "      <td>77909.09</td>\n",
       "      <td>2019-05-06</td>\n",
       "      <td>OTHR</td>\n",
       "      <td>16</td>\n",
       "      <td>15</td>\n",
       "    </tr>\n",
       "    <tr>\n",
       "      <th>3</th>\n",
       "      <td>U001</td>\n",
       "      <td>0100044041</td>\n",
       "      <td>2020-03-02</td>\n",
       "      <td>2020.0</td>\n",
       "      <td>1.930548e+09</td>\n",
       "      <td>2020-02-20</td>\n",
       "      <td>2020-02-20</td>\n",
       "      <td>2020-03-10</td>\n",
       "      <td>USD</td>\n",
       "      <td>2459.37</td>\n",
       "      <td>2020-02-16</td>\n",
       "      <td>NAM4</td>\n",
       "      <td>11</td>\n",
       "      <td>19</td>\n",
       "    </tr>\n",
       "    <tr>\n",
       "      <th>4</th>\n",
       "      <td>U001</td>\n",
       "      <td>0200705742</td>\n",
       "      <td>2019-05-15</td>\n",
       "      <td>2019.0</td>\n",
       "      <td>1.929234e+09</td>\n",
       "      <td>2019-04-30</td>\n",
       "      <td>2019-04-30</td>\n",
       "      <td>2019-06-03</td>\n",
       "      <td>USD</td>\n",
       "      <td>10073.68</td>\n",
       "      <td>2019-04-30</td>\n",
       "      <td>OTHR</td>\n",
       "      <td>15</td>\n",
       "      <td>34</td>\n",
       "    </tr>\n",
       "  </tbody>\n",
       "</table>\n",
       "</div>"
      ],
      "text/plain": [
       "  business_code cust_number clear_date  buisness_year        doc_id  \\\n",
       "0          U001  0200779906 2019-03-28         2019.0  1.928941e+09   \n",
       "1          U001  0200769623 2019-04-03         2019.0  1.929015e+09   \n",
       "2          U001  0200772670 2019-05-22         2019.0  1.929268e+09   \n",
       "3          U001  0100044041 2020-03-02         2020.0  1.930548e+09   \n",
       "4          U001  0200705742 2019-05-15         2019.0  1.929234e+09   \n",
       "\n",
       "  posting_date document_create_date due_in_date invoice_currency  \\\n",
       "0   2019-03-12           2019-03-10  2019-03-27              USD   \n",
       "1   2019-03-24           2019-03-23  2019-04-08              USD   \n",
       "2   2019-05-06           2019-05-06  2019-05-21              USD   \n",
       "3   2020-02-20           2020-02-20  2020-03-10              USD   \n",
       "4   2019-04-30           2019-04-30  2019-06-03              USD   \n",
       "\n",
       "   total_open_amount baseline_create_date cust_payment_terms  target  expected  \n",
       "0           44468.83           2019-03-12               NAA8      18        17  \n",
       "1            4013.75           2019-03-24               NAH4      11        16  \n",
       "2           77909.09           2019-05-06               OTHR      16        15  \n",
       "3            2459.37           2020-02-16               NAM4      11        19  \n",
       "4           10073.68           2019-04-30               OTHR      15        34  "
      ]
     },
     "execution_count": 94,
     "metadata": {},
     "output_type": "execute_result"
    }
   ],
   "source": [
    "main_train.head()"
   ]
  },
  {
   "cell_type": "code",
   "execution_count": 95,
   "id": "seasonal-surgeon",
   "metadata": {},
   "outputs": [],
   "source": [
    "from sklearn.preprocessing import LabelEncoder"
   ]
  },
  {
   "cell_type": "code",
   "execution_count": null,
   "id": "recognized-carrier",
   "metadata": {},
   "outputs": [],
   "source": []
  },
  {
   "cell_type": "code",
   "execution_count": null,
   "id": "pressing-reflection",
   "metadata": {},
   "outputs": [],
   "source": []
  },
  {
   "cell_type": "code",
   "execution_count": 96,
   "id": "opening-workstation",
   "metadata": {},
   "outputs": [],
   "source": [
    "business_code_en = LabelEncoder()\n",
    "business_code_en.fit(main_train['business_code'])\n",
    "main_train['business_code'] = business_code_en.transform(main_train['business_code'])"
   ]
  },
  {
   "cell_type": "code",
   "execution_count": 97,
   "id": "sharing-seller",
   "metadata": {},
   "outputs": [],
   "source": [
    "cust_number_en = LabelEncoder()\n",
    "cust_number_en.fit(main_train['cust_number'])\n",
    "main_train['cust_number'] = cust_number_en.transform(main_train['cust_number'])"
   ]
  },
  {
   "cell_type": "code",
   "execution_count": 98,
   "id": "functional-yesterday",
   "metadata": {},
   "outputs": [],
   "source": [
    "invoice_currency_en = LabelEncoder()\n",
    "invoice_currency_en.fit(main_train['invoice_currency'])\n",
    "main_train['invoice_currency'] = invoice_currency_en.transform(main_train['invoice_currency'])"
   ]
  },
  {
   "cell_type": "code",
   "execution_count": 99,
   "id": "enabling-tenant",
   "metadata": {},
   "outputs": [],
   "source": [
    "cust_payment_terms_en = LabelEncoder()\n",
    "cust_payment_terms_en.fit(main_train['cust_payment_terms'])\n",
    "main_train['cust_payment_terms'] = cust_payment_terms_en.transform(main_train['cust_payment_terms'])"
   ]
  },
  {
   "cell_type": "code",
   "execution_count": 100,
   "id": "sublime-assistant",
   "metadata": {},
   "outputs": [],
   "source": [
    "main_train['day_of_week'] = main_train['document_create_date'].dt.weekday\n",
    "main_train['month'] = main_train['document_create_date'].dt.month"
   ]
  },
  {
   "cell_type": "code",
   "execution_count": 101,
   "id": "broke-bottom",
   "metadata": {},
   "outputs": [
    {
     "data": {
      "text/html": [
       "<div>\n",
       "<style scoped>\n",
       "    .dataframe tbody tr th:only-of-type {\n",
       "        vertical-align: middle;\n",
       "    }\n",
       "\n",
       "    .dataframe tbody tr th {\n",
       "        vertical-align: top;\n",
       "    }\n",
       "\n",
       "    .dataframe thead th {\n",
       "        text-align: right;\n",
       "    }\n",
       "</style>\n",
       "<table border=\"1\" class=\"dataframe\">\n",
       "  <thead>\n",
       "    <tr style=\"text-align: right;\">\n",
       "      <th></th>\n",
       "      <th>business_code</th>\n",
       "      <th>cust_number</th>\n",
       "      <th>clear_date</th>\n",
       "      <th>buisness_year</th>\n",
       "      <th>doc_id</th>\n",
       "      <th>posting_date</th>\n",
       "      <th>document_create_date</th>\n",
       "      <th>due_in_date</th>\n",
       "      <th>invoice_currency</th>\n",
       "      <th>total_open_amount</th>\n",
       "      <th>baseline_create_date</th>\n",
       "      <th>cust_payment_terms</th>\n",
       "      <th>target</th>\n",
       "      <th>expected</th>\n",
       "      <th>day_of_week</th>\n",
       "      <th>month</th>\n",
       "    </tr>\n",
       "  </thead>\n",
       "  <tbody>\n",
       "    <tr>\n",
       "      <th>33189</th>\n",
       "      <td>1</td>\n",
       "      <td>324</td>\n",
       "      <td>2019-01-23</td>\n",
       "      <td>2019.0</td>\n",
       "      <td>1.991819e+09</td>\n",
       "      <td>2018-12-30</td>\n",
       "      <td>2018-12-26</td>\n",
       "      <td>2019-01-29</td>\n",
       "      <td>1</td>\n",
       "      <td>10045.2300</td>\n",
       "      <td>2018-12-30</td>\n",
       "      <td>5</td>\n",
       "      <td>28</td>\n",
       "      <td>34</td>\n",
       "      <td>2</td>\n",
       "      <td>12</td>\n",
       "    </tr>\n",
       "    <tr>\n",
       "      <th>29220</th>\n",
       "      <td>2</td>\n",
       "      <td>909</td>\n",
       "      <td>2019-01-22</td>\n",
       "      <td>2019.0</td>\n",
       "      <td>1.928533e+09</td>\n",
       "      <td>2019-01-02</td>\n",
       "      <td>2018-12-29</td>\n",
       "      <td>2019-01-17</td>\n",
       "      <td>1</td>\n",
       "      <td>31035.3300</td>\n",
       "      <td>2019-01-02</td>\n",
       "      <td>1</td>\n",
       "      <td>24</td>\n",
       "      <td>19</td>\n",
       "      <td>5</td>\n",
       "      <td>12</td>\n",
       "    </tr>\n",
       "    <tr>\n",
       "      <th>5902</th>\n",
       "      <td>2</td>\n",
       "      <td>592</td>\n",
       "      <td>2019-01-23</td>\n",
       "      <td>2019.0</td>\n",
       "      <td>1.928533e+09</td>\n",
       "      <td>2019-01-03</td>\n",
       "      <td>2018-12-29</td>\n",
       "      <td>2019-01-23</td>\n",
       "      <td>1</td>\n",
       "      <td>20434.3900</td>\n",
       "      <td>2019-01-03</td>\n",
       "      <td>5</td>\n",
       "      <td>25</td>\n",
       "      <td>25</td>\n",
       "      <td>5</td>\n",
       "      <td>12</td>\n",
       "    </tr>\n",
       "    <tr>\n",
       "      <th>11749</th>\n",
       "      <td>2</td>\n",
       "      <td>895</td>\n",
       "      <td>2019-01-15</td>\n",
       "      <td>2019.0</td>\n",
       "      <td>1.928537e+09</td>\n",
       "      <td>2018-12-31</td>\n",
       "      <td>2018-12-29</td>\n",
       "      <td>2019-01-15</td>\n",
       "      <td>1</td>\n",
       "      <td>38680.2000</td>\n",
       "      <td>2018-12-31</td>\n",
       "      <td>1</td>\n",
       "      <td>17</td>\n",
       "      <td>17</td>\n",
       "      <td>5</td>\n",
       "      <td>12</td>\n",
       "    </tr>\n",
       "    <tr>\n",
       "      <th>37520</th>\n",
       "      <td>2</td>\n",
       "      <td>804</td>\n",
       "      <td>2019-01-18</td>\n",
       "      <td>2019.0</td>\n",
       "      <td>1.928535e+09</td>\n",
       "      <td>2019-01-02</td>\n",
       "      <td>2018-12-29</td>\n",
       "      <td>2019-01-17</td>\n",
       "      <td>1</td>\n",
       "      <td>18769.7400</td>\n",
       "      <td>2019-01-02</td>\n",
       "      <td>3</td>\n",
       "      <td>20</td>\n",
       "      <td>19</td>\n",
       "      <td>5</td>\n",
       "      <td>12</td>\n",
       "    </tr>\n",
       "    <tr>\n",
       "      <th>...</th>\n",
       "      <td>...</td>\n",
       "      <td>...</td>\n",
       "      <td>...</td>\n",
       "      <td>...</td>\n",
       "      <td>...</td>\n",
       "      <td>...</td>\n",
       "      <td>...</td>\n",
       "      <td>...</td>\n",
       "      <td>...</td>\n",
       "      <td>...</td>\n",
       "      <td>...</td>\n",
       "      <td>...</td>\n",
       "      <td>...</td>\n",
       "      <td>...</td>\n",
       "      <td>...</td>\n",
       "      <td>...</td>\n",
       "    </tr>\n",
       "    <tr>\n",
       "      <th>39802</th>\n",
       "      <td>2</td>\n",
       "      <td>948</td>\n",
       "      <td>2020-03-16</td>\n",
       "      <td>2020.0</td>\n",
       "      <td>1.930577e+09</td>\n",
       "      <td>2020-02-26</td>\n",
       "      <td>2020-02-27</td>\n",
       "      <td>2020-03-12</td>\n",
       "      <td>1</td>\n",
       "      <td>56061.3900</td>\n",
       "      <td>2020-02-26</td>\n",
       "      <td>1</td>\n",
       "      <td>18</td>\n",
       "      <td>14</td>\n",
       "      <td>3</td>\n",
       "      <td>2</td>\n",
       "    </tr>\n",
       "    <tr>\n",
       "      <th>45040</th>\n",
       "      <td>1</td>\n",
       "      <td>309</td>\n",
       "      <td>2020-03-24</td>\n",
       "      <td>2020.0</td>\n",
       "      <td>1.991839e+09</td>\n",
       "      <td>2020-02-07</td>\n",
       "      <td>2020-02-27</td>\n",
       "      <td>2020-03-08</td>\n",
       "      <td>1</td>\n",
       "      <td>75816.0000</td>\n",
       "      <td>2020-02-07</td>\n",
       "      <td>5</td>\n",
       "      <td>26</td>\n",
       "      <td>10</td>\n",
       "      <td>3</td>\n",
       "      <td>2</td>\n",
       "    </tr>\n",
       "    <tr>\n",
       "      <th>29507</th>\n",
       "      <td>2</td>\n",
       "      <td>945</td>\n",
       "      <td>2020-03-13</td>\n",
       "      <td>2020.0</td>\n",
       "      <td>1.930581e+09</td>\n",
       "      <td>2020-02-27</td>\n",
       "      <td>2020-02-28</td>\n",
       "      <td>2020-03-13</td>\n",
       "      <td>1</td>\n",
       "      <td>35655.9000</td>\n",
       "      <td>2020-02-27</td>\n",
       "      <td>1</td>\n",
       "      <td>14</td>\n",
       "      <td>14</td>\n",
       "      <td>4</td>\n",
       "      <td>2</td>\n",
       "    </tr>\n",
       "    <tr>\n",
       "      <th>28808</th>\n",
       "      <td>2</td>\n",
       "      <td>1329</td>\n",
       "      <td>2020-03-27</td>\n",
       "      <td>2020.0</td>\n",
       "      <td>1.930582e+09</td>\n",
       "      <td>2020-02-19</td>\n",
       "      <td>2020-02-28</td>\n",
       "      <td>2020-02-19</td>\n",
       "      <td>1</td>\n",
       "      <td>18768.0000</td>\n",
       "      <td>2020-02-19</td>\n",
       "      <td>5</td>\n",
       "      <td>28</td>\n",
       "      <td>-9</td>\n",
       "      <td>4</td>\n",
       "      <td>2</td>\n",
       "    </tr>\n",
       "    <tr>\n",
       "      <th>41075</th>\n",
       "      <td>0</td>\n",
       "      <td>416</td>\n",
       "      <td>2020-03-16</td>\n",
       "      <td>2020.0</td>\n",
       "      <td>2.960614e+09</td>\n",
       "      <td>2020-02-27</td>\n",
       "      <td>2020-02-28</td>\n",
       "      <td>2020-03-10</td>\n",
       "      <td>0</td>\n",
       "      <td>46716.1344</td>\n",
       "      <td>2020-02-29</td>\n",
       "      <td>0</td>\n",
       "      <td>17</td>\n",
       "      <td>11</td>\n",
       "      <td>4</td>\n",
       "      <td>2</td>\n",
       "    </tr>\n",
       "  </tbody>\n",
       "</table>\n",
       "<p>39116 rows × 16 columns</p>\n",
       "</div>"
      ],
      "text/plain": [
       "       business_code  cust_number clear_date  buisness_year        doc_id  \\\n",
       "33189              1          324 2019-01-23         2019.0  1.991819e+09   \n",
       "29220              2          909 2019-01-22         2019.0  1.928533e+09   \n",
       "5902               2          592 2019-01-23         2019.0  1.928533e+09   \n",
       "11749              2          895 2019-01-15         2019.0  1.928537e+09   \n",
       "37520              2          804 2019-01-18         2019.0  1.928535e+09   \n",
       "...              ...          ...        ...            ...           ...   \n",
       "39802              2          948 2020-03-16         2020.0  1.930577e+09   \n",
       "45040              1          309 2020-03-24         2020.0  1.991839e+09   \n",
       "29507              2          945 2020-03-13         2020.0  1.930581e+09   \n",
       "28808              2         1329 2020-03-27         2020.0  1.930582e+09   \n",
       "41075              0          416 2020-03-16         2020.0  2.960614e+09   \n",
       "\n",
       "      posting_date document_create_date due_in_date  invoice_currency  \\\n",
       "33189   2018-12-30           2018-12-26  2019-01-29                 1   \n",
       "29220   2019-01-02           2018-12-29  2019-01-17                 1   \n",
       "5902    2019-01-03           2018-12-29  2019-01-23                 1   \n",
       "11749   2018-12-31           2018-12-29  2019-01-15                 1   \n",
       "37520   2019-01-02           2018-12-29  2019-01-17                 1   \n",
       "...            ...                  ...         ...               ...   \n",
       "39802   2020-02-26           2020-02-27  2020-03-12                 1   \n",
       "45040   2020-02-07           2020-02-27  2020-03-08                 1   \n",
       "29507   2020-02-27           2020-02-28  2020-03-13                 1   \n",
       "28808   2020-02-19           2020-02-28  2020-02-19                 1   \n",
       "41075   2020-02-27           2020-02-28  2020-03-10                 0   \n",
       "\n",
       "       total_open_amount baseline_create_date  cust_payment_terms  target  \\\n",
       "33189         10045.2300           2018-12-30                   5      28   \n",
       "29220         31035.3300           2019-01-02                   1      24   \n",
       "5902          20434.3900           2019-01-03                   5      25   \n",
       "11749         38680.2000           2018-12-31                   1      17   \n",
       "37520         18769.7400           2019-01-02                   3      20   \n",
       "...                  ...                  ...                 ...     ...   \n",
       "39802         56061.3900           2020-02-26                   1      18   \n",
       "45040         75816.0000           2020-02-07                   5      26   \n",
       "29507         35655.9000           2020-02-27                   1      14   \n",
       "28808         18768.0000           2020-02-19                   5      28   \n",
       "41075         46716.1344           2020-02-29                   0      17   \n",
       "\n",
       "       expected  day_of_week  month  \n",
       "33189        34            2     12  \n",
       "29220        19            5     12  \n",
       "5902         25            5     12  \n",
       "11749        17            5     12  \n",
       "37520        19            5     12  \n",
       "...         ...          ...    ...  \n",
       "39802        14            3      2  \n",
       "45040        10            3      2  \n",
       "29507        14            4      2  \n",
       "28808        -9            4      2  \n",
       "41075        11            4      2  \n",
       "\n",
       "[39116 rows x 16 columns]"
      ]
     },
     "execution_count": 101,
     "metadata": {},
     "output_type": "execute_result"
    }
   ],
   "source": [
    "main_train.sort_values(by=['document_create_date'])"
   ]
  },
  {
   "cell_type": "code",
   "execution_count": 102,
   "id": "tired-retro",
   "metadata": {},
   "outputs": [],
   "source": [
    "main_train.drop(['buisness_year','doc_id','posting_date','document_create_date','due_in_date','baseline_create_date','clear_date'],axis=1,inplace=True)"
   ]
  },
  {
   "cell_type": "code",
   "execution_count": 103,
   "id": "random-doubt",
   "metadata": {},
   "outputs": [
    {
     "name": "stdout",
     "output_type": "stream",
     "text": [
      "<class 'pandas.core.frame.DataFrame'>\n",
      "Int64Index: 39116 entries, 0 to 49999\n",
      "Data columns (total 9 columns):\n",
      " #   Column              Non-Null Count  Dtype  \n",
      "---  ------              --------------  -----  \n",
      " 0   business_code       39116 non-null  int64  \n",
      " 1   cust_number         39116 non-null  int64  \n",
      " 2   invoice_currency    39116 non-null  int64  \n",
      " 3   total_open_amount   39116 non-null  float64\n",
      " 4   cust_payment_terms  39116 non-null  int64  \n",
      " 5   target              39116 non-null  int64  \n",
      " 6   expected            39116 non-null  int64  \n",
      " 7   day_of_week         39116 non-null  int64  \n",
      " 8   month               39116 non-null  int64  \n",
      "dtypes: float64(1), int64(8)\n",
      "memory usage: 3.0 MB\n"
     ]
    }
   ],
   "source": [
    "main_train.info()"
   ]
  },
  {
   "cell_type": "code",
   "execution_count": 104,
   "id": "connected-employment",
   "metadata": {},
   "outputs": [],
   "source": [
    "X = main_train.drop('target',axis=1)\n",
    "Y = main_train['target']\n",
    "\n",
    "from sklearn.model_selection import train_test_split\n",
    "X_train,X_inter_test,y_train,y_inter_test = train_test_split(X,Y,test_size=0.3,random_state=0 , shuffle = False)\n"
   ]
  },
  {
   "cell_type": "code",
   "execution_count": 105,
   "id": "determined-liberty",
   "metadata": {},
   "outputs": [
    {
     "data": {
      "text/plain": [
       "<AxesSubplot:xlabel='target', ylabel='Density'>"
      ]
     },
     "execution_count": 105,
     "metadata": {},
     "output_type": "execute_result"
    },
    {
     "data": {
      "image/png": "[encoded data removed]",
      "text/plain": [
       "<Figure size 432x288 with 1 Axes>"
      ]
     },
     "metadata": {
      "needs_background": "light"
     },
     "output_type": "display_data"
    }
   ],
   "source": [
    "sns.distplot(y_train)"
   ]
  },
  {
   "cell_type": "code",
   "execution_count": 106,
   "id": "violent-injury",
   "metadata": {},
   "outputs": [
    {
     "data": {
      "text/plain": [
       "LinearRegression()"
      ]
     },
     "execution_count": 106,
     "metadata": {},
     "output_type": "execute_result"
    }
   ],
   "source": [
    "from sklearn.linear_model import LinearRegression\n",
    "base_model = LinearRegression()\n",
    "base_model.fit(X_train, y_train)\n"
   ]
  },
  {
   "cell_type": "code",
   "execution_count": 107,
   "id": "parallel-pennsylvania",
   "metadata": {},
   "outputs": [],
   "source": [
    "y_predict = base_model.predict(X_inter_test)"
   ]
  },
  {
   "cell_type": "code",
   "execution_count": 108,
   "id": "impressive-queens",
   "metadata": {
    "scrolled": true
   },
   "outputs": [
    {
     "data": {
      "text/plain": [
       "9.818761150706852"
      ]
     },
     "execution_count": 108,
     "metadata": {},
     "output_type": "execute_result"
    }
   ],
   "source": [
    "from sklearn.metrics import mean_squared_error\n",
    "\n",
    "mean_squared_error(y_inter_test, y_predict, squared=False)"
   ]
  },
  {
   "cell_type": "code",
   "execution_count": 117,
   "id": "editorial-surgery",
   "metadata": {},
   "outputs": [],
   "source": [
    "from sklearn.tree import DecisionTreeRegressor\n",
    "regressor = DecisionTreeRegressor(random_state=0 , max_depth=7)"
   ]
  },
  {
   "cell_type": "code",
   "execution_count": 118,
   "id": "backed-enzyme",
   "metadata": {
    "scrolled": true
   },
   "outputs": [
    {
     "data": {
      "text/plain": [
       "DecisionTreeRegressor(max_depth=7, random_state=0)"
      ]
     },
     "execution_count": 118,
     "metadata": {},
     "output_type": "execute_result"
    }
   ],
   "source": [
    "regressor.fit(X_train, y_train)"
   ]
  },
  {
   "cell_type": "code",
   "execution_count": 119,
   "id": "unlike-avatar",
   "metadata": {},
   "outputs": [],
   "source": [
    "y_predict2 = regressor.predict(X_inter_test)"
   ]
  },
  {
   "cell_type": "code",
   "execution_count": 120,
   "id": "invisible-nitrogen",
   "metadata": {
    "scrolled": true
   },
   "outputs": [
    {
     "data": {
      "text/plain": [
       "8.538600585757502"
      ]
     },
     "execution_count": 120,
     "metadata": {},
     "output_type": "execute_result"
    }
   ],
   "source": [
    "mean_squared_error(y_inter_test, y_predict2, squared=False)"
   ]
  },
  {
   "cell_type": "code",
   "execution_count": null,
   "id": "confused-representative",
   "metadata": {},
   "outputs": [],
   "source": []
  }
 ],
 "metadata": {
  "kernelspec": {
   "display_name": "Python 3",
   "language": "python",
   "name": "python3"
  },
  "language_info": {
   "codemirror_mode": {
    "name": "ipython",
    "version": 3
   },
   "file_extension": ".py",
   "mimetype": "text/x-python",
   "name": "python",
   "nbconvert_exporter": "python",
   "pygments_lexer": "ipython3",
   "version": "3.6.9"
  }
 },
 "nbformat": 4,
 "nbformat_minor": 5
}
